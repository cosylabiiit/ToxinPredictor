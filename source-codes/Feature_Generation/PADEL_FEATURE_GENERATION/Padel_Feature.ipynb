{
 "cells": [
  {
   "cell_type": "code",
   "execution_count": null,
   "metadata": {},
   "outputs": [],
   "source": [
    "!pip install padelpy\n",
    "import padelpy\n",
    "import pandas as pd\n",
    "import numpy as np\n",
    "from padelpy import padeldescriptor, from_smiles"
   ]
  },
  {
   "cell_type": "code",
   "execution_count": null,
   "metadata": {},
   "outputs": [],
   "source": [
    "df = pd.read_csv('CombinedResearchPaperData.csv')\n",
    "\n",
    "df.head(10)"
   ]
  },
  {
   "cell_type": "code",
   "execution_count": null,
   "metadata": {},
   "outputs": [],
   "source": [
    "df = df['SMILES']\n",
    "df = df.to_frame(name='SMILES')\n",
    "#df = df['SMILES']\n",
    "df.head(10)"
   ]
  },
  {
   "cell_type": "code",
   "execution_count": null,
   "metadata": {},
   "outputs": [],
   "source": [
    "# create .smi file containing smiles\n",
    "df['SMILES'].to_csv('CRPD.smi', index=None, header=None)"
   ]
  },
  {
   "cell_type": "code",
   "execution_count": 30,
   "metadata": {},
   "outputs": [],
   "source": [
    "# #generating 2D descriptors\n",
    "# padeldescriptor(mol_dir='CRPD.smi', d_file='2d.csv', d_2d=True, d_3d=False, fingerprints=False, retainorder=True,\n",
    "#                 #convert3d=True, detectaromaticity=True, removesalt=True, retain3d=True,\n",
    "#                 # standardizenitro=True, standardizetautomers=True\n",
    "#                 )"
   ]
  },
  {
   "cell_type": "code",
   "execution_count": null,
   "metadata": {},
   "outputs": [],
   "source": [
    "# df_2d = pd.read_csv('2d.csv')\n",
    "# df_2d = pd.concat([df, df_2d.drop(\"Name\",axis = 1)], axis=1)\n",
    "# df_2d.head(10)"
   ]
  },
  {
   "cell_type": "code",
   "execution_count": null,
   "metadata": {},
   "outputs": [],
   "source": [
    "# #generating 3D descriptors\n",
    "# padeldescriptor(mol_dir='CRPD.smi', d_file='3d.csv', d_2d=False, d_3d=True, fingerprints=False, retainorder=True,\n",
    "#                 convert3d=True, #detectaromaticity=True, removesalt=True, retain3d=True,\n",
    "#                 # standardizenitro=True, standardizetautomers=True\n",
    "#                 )\n",
    "\n",
    "# df_3d = pd.read_csv('3d.csv')\n",
    "# df_3d = pd.concat([df, df_3d.drop(\"Name\",axis = 1)], axis=1)\n",
    "\n",
    "# #add 0 for nan values\n",
    "# df_3d = df_3d.fillna(0)\n",
    "# df_3d.head(10)"
   ]
  },
  {
   "cell_type": "code",
   "execution_count": null,
   "metadata": {},
   "outputs": [],
   "source": [
    "#generating fingerprints\n",
    "import os\n",
    "#getting xml files from descriptors directory\n",
    "xml_files = [i for i in os.listdir('descriptors_xml') if i.endswith('.xml')]\n",
    "xml_files.sort()\n",
    "xml_files"
   ]
  },
  {
   "cell_type": "code",
   "execution_count": null,
   "metadata": {},
   "outputs": [],
   "source": [
    "df_fingerprints = pd.read_csv('CombinedResearchPaperData.csv')\n",
    "df = df_fingerprints['SMILES']\n",
    "# df_fingerprints = df_fingerprints['SMILES'].head(10)\n",
    "df_fingerprints = df_fingerprints.to_frame(name='SMILES')\n",
    "df_fingerprints.head(10)"
   ]
  },
  {
   "cell_type": "code",
   "execution_count": null,
   "metadata": {},
   "outputs": [],
   "source": [
    "df_fingerprints['SMILES'].to_csv('CRPD.smi', index=None, header=None)"
   ]
  },
  {
   "cell_type": "code",
   "execution_count": null,
   "metadata": {},
   "outputs": [],
   "source": [
    "import time\n",
    "import os\n",
    "import pandas as pd\n",
    "from padelpy import padeldescriptor\n",
    "\n",
    "# Assuming xml_files is defined somewhere in your code\n",
    "# xml_files = [...] \n",
    "\n",
    "start_time = time.perf_counter()\n",
    "combined_fp = pd.DataFrame()\n",
    "for i in range(len(xml_files)):\n",
    "    xml_file = xml_files[i]\n",
    "    if not os.path.isfile(xml_file):\n",
    "        print(f\"Error: Descriptor types file '{xml_file}' does not exist.\")\n",
    "        continue\n",
    "    \n",
    "    try:\n",
    "        print(f\"Processing: {xml_file}\")\n",
    "        padeldescriptor(\n",
    "            mol_dir='CRPD.smi',\n",
    "            d_file=f'{xml_file[:-4]}.csv',\n",
    "            descriptortypes=xml_file,\n",
    "            retainorder=True,\n",
    "            fingerprints=True,\n",
    "            d_2d=False,\n",
    "            d_3d=False\n",
    "        )\n",
    "        fp_name = f'{xml_file[:-4]}'\n",
    "        fp = pd.read_csv(f'{fp_name}.csv')\n",
    "        fp = pd.concat([df, fp.drop('Name', axis=1)], axis=1)\n",
    "        fp.to_csv(f'{fp_name}.csv', index=None)\n",
    "        combined_fp = pd.concat([combined_fp, fp], axis=1)\n",
    "        print(f\"{fp_name} done\")\n",
    "    except RuntimeError as e:\n",
    "        print(f\"RuntimeError for file '{xml_file}': {e}\")\n",
    "    except Exception as e:\n",
    "        print(f\"An error occurred for file '{xml_file}': {e}\")\n",
    "\n",
    "end_time = time.perf_counter()\n",
    "print(end_time - start_time, \"seconds\")\n"
   ]
  },
  {
   "cell_type": "code",
   "execution_count": null,
   "metadata": {},
   "outputs": [],
   "source": [
    "#concatenating all the fingerprint files from the csv files \n",
    "combined_fp.head(10)\n",
    "\n",
    "#add 0 for nan values\n",
    "combined_fp = combined_fp.fillna(0)\n",
    "\n",
    "\n",
    "#save the final dataframe\n",
    "\n",
    "# final_df = pd.concat([df_2d, df_3d.drop(\"SMILES\",axis = 1), combined_fp.drop(\"SMILES\",axis = 1)], axis=1)\n",
    "\n",
    "combined_fp.to_csv('padel_features.csv', index=None)\n",
    "combined_fp.head(10)\n",
    "\n",
    "combined_fp.shape"
   ]
  }
 ],
 "metadata": {
  "kernelspec": {
   "display_name": "Python 3",
   "language": "python",
   "name": "python3"
  },
  "language_info": {
   "codemirror_mode": {
    "name": "ipython",
    "version": 3
   },
   "file_extension": ".py",
   "mimetype": "text/x-python",
   "name": "python",
   "nbconvert_exporter": "python",
   "pygments_lexer": "ipython3",
   "version": "3.11.4"
  }
 },
 "nbformat": 4,
 "nbformat_minor": 2
}
